{
 "cells": [
  {
   "cell_type": "markdown",
   "id": "8c0c0f61-4733-4c21-8aa3-95bef9d91852",
   "metadata": {},
   "source": [
    "# Data Science Tools and Ecosystem"
   ]
  },
  {
   "cell_type": "markdown",
   "id": "bb740b13-69ae-46a2-8764-fd444f1c1a97",
   "metadata": {},
   "source": [
    "In this notebook, Data Science Tools and Ecosystem are summarized."
   ]
  },
  {
   "cell_type": "markdown",
   "id": "95c222e1-e201-4529-95af-be192ae43838",
   "metadata": {},
   "source": [
    "Some of the popular languages that Data Scientists use are:\n",
    "* Python\n",
    "* java\n",
    "* c++"
   ]
  },
  {
   "cell_type": "markdown",
   "id": "285aded4-9df0-4e7c-99ef-c860ca1c52e8",
   "metadata": {},
   "source": [
    "Some of the commonly used libraries used by Data Scientists include: \n",
    "* Numpy\n",
    "* Scipy\n",
    "* Panda"
   ]
  },
  {
   "cell_type": "markdown",
   "id": "a00c8d30-0efc-40ee-8f13-15b62444bda9",
   "metadata": {},
   "source": [
    "| Data Science Tools |\n",
    "| -------------------|\n",
    "| Jupyter Notebook   |\n",
    "| RStudio            |\n",
    "| Apache Zeppelin    |\n"
   ]
  },
  {
   "cell_type": "markdown",
   "id": "004fddd9-da17-419d-85d2-2a0a8b2eb6f2",
   "metadata": {},
   "source": [
    "### Below are a few examples of evaluating arithmetic expressions in Python."
   ]
  },
  {
   "cell_type": "code",
   "execution_count": null,
   "id": "8eecfd4d-4524-4e36-a1d6-bb38cb9592ff",
   "metadata": {},
   "outputs": [],
   "source": [
    "A = (3*4)+5\n",
    "# This a simple arithmetic expression to mutiply then add integers\n",
    "print(A)"
   ]
  },
  {
   "cell_type": "code",
   "execution_count": null,
   "id": "dde312f5-071a-453a-bcf5-879eb0136d37",
   "metadata": {},
   "outputs": [],
   "source": [
    "Convert_Minutes_To_Hours = 200/60\n",
    "# This will convert 200 minutes to hours by diving by 60\n",
    "print (Convert_Minutes_To_Hours)"
   ]
  },
  {
   "cell_type": "markdown",
   "id": "81839b40-70d1-4e0c-9de3-5269884e0db2",
   "metadata": {},
   "source": [
    "**Objectives:**"
   ]
  },
  {
   "cell_type": "markdown",
   "id": "7f80b31c-0249-4bcd-99b2-72176b7d852b",
   "metadata": {},
   "source": [
    "* Introduce basic arithmetic operations in Python.\n"
   ]
  },
  {
   "cell_type": "markdown",
   "id": "a464f2c6-bf15-42af-8632-973f46fba8db",
   "metadata": {},
   "source": [
    "* Creating a table of data science tools."
   ]
  },
  {
   "cell_type": "markdown",
   "id": "be0cad3c-a5eb-450f-a2d8-fe11c97c3fb1",
   "metadata": {},
   "source": [
    "* List Popular Languages in Data science "
   ]
  },
  {
   "cell_type": "markdown",
   "id": "511c2fda-515e-495b-a866-5b7ad0d1b510",
   "metadata": {},
   "source": [
    "* Listing commonly used libraries in data science"
   ]
  },
  {
   "cell_type": "markdown",
   "id": "6e516acf-b166-469f-a379-5c596382f384",
   "metadata": {},
   "source": [
    "## Author: Fnu Saad"
   ]
  },
  {
   "cell_type": "code",
   "execution_count": null,
   "id": "aab2b0b6-a5db-483b-8e0a-e07674e6a654",
   "metadata": {},
   "outputs": [],
   "source": []
  }
 ],
 "metadata": {
  "kernelspec": {
   "display_name": "anaconda-panel-2023.05-py310",
   "language": "python",
   "name": "conda-env-anaconda-panel-2023.05-py310-py"
  },
  "language_info": {
   "codemirror_mode": {
    "name": "ipython",
    "version": 3
   },
   "file_extension": ".py",
   "mimetype": "text/x-python",
   "name": "python",
   "nbconvert_exporter": "python",
   "pygments_lexer": "ipython3",
   "version": "3.11.5"
  }
 },
 "nbformat": 4,
 "nbformat_minor": 5
}
